{
 "cells": [
  {
   "cell_type": "markdown",
   "metadata": {},
   "source": [
    "This notebook was prepared by [Donne Martin](http://donnemartin.com). Source and license info is on [GitHub](https://github.com/donnemartin/interactive-coding-challenges)."
   ]
  },
  {
   "cell_type": "markdown",
   "metadata": {},
   "source": [
    "# Challenge Notebook"
   ]
  },
  {
   "cell_type": "markdown",
   "metadata": {},
   "source": [
    "## Problem: Implement fibonacci recursively, dynamically, and iteratively.\n",
    "\n",
    "* [Constraints](#Constraints)\n",
    "* [Test Cases](#Test-Cases)\n",
    "* [Algorithm](#Algorithm)\n",
    "* [Code](#Code)\n",
    "* [Unit Test](#Unit-Test)\n",
    "* [Solution Notebook](#Solution-Notebook)"
   ]
  },
  {
   "cell_type": "markdown",
   "metadata": {},
   "source": [
    "## Constraints\n",
    "\n",
    "* Does the sequence start at 0 or 1?\n",
    "    * 0\n",
    "* Can we assume the inputs are valid non-negative ints?\n",
    "    * Yes\n",
    "* Are you looking for a recursive or iterative solution?\n",
    "    * Implement both\n",
    "* Can we assume this fits memory?\n",
    "    * Yes"
   ]
  },
  {
   "cell_type": "markdown",
   "metadata": {},
   "source": [
    "## Test Cases\n",
    "\n",
    "* n = 0 -> 0\n",
    "* n = 1 -> 1\n",
    "* n = 6 -> 8\n",
    "* Fib sequence: 0, 1, 1, 2, 3, 5, 8, 13, 21, 34..."
   ]
  },
  {
   "cell_type": "markdown",
   "metadata": {},
   "source": [
    "## Algorithm\n",
    "\n",
    "Refer to the [Solution Notebook](http://nbviewer.ipython.org/github/donnemartin/interactive-coding-challenges/blob/master/recursion_dynamic/fibonacci/fibonacci_solution.ipynb).  If you are stuck and need a hint, the solution notebook's algorithm discussion might be a good place to start."
   ]
  },
  {
   "cell_type": "markdown",
   "metadata": {},
   "source": [
    "## Code"
   ]
  },
  {
   "cell_type": "code",
   "execution_count": 23,
   "metadata": {
    "collapsed": true
   },
   "outputs": [],
   "source": [
    "import numpy as np\n",
    "\n",
    "class Math(object):\n",
    "    def __init__(self):\n",
    "        self.dp = [0, 1]\n",
    "\n",
    "    def fib_iterative(self, n):\n",
    "        if n < 2: return n\n",
    "        if n == 2: return 1\n",
    "        a = b = 1\n",
    "        for i in range(3,n+1):\n",
    "            a, b = b, a+b\n",
    "        return b\n",
    "\n",
    "    def fib_recursive(self, n):\n",
    "        if n < 1: return 0\n",
    "        if n < 2: return 1\n",
    "        return self.fib_recursive(n-1) + self.fib_recursive(n-2)\n",
    "\n",
    "    def fib_dynamic(self, n):\n",
    "        if n < len(self.dp): return self.dp[n]\n",
    "        i = len(self.dp)\n",
    "        for j in range(i,n+1):\n",
    "            self.dp.append(self.dp[j-1] + self.dp[j-2])\n",
    "        return self.dp[n]\n",
    "    def solve(self, a):\n",
    "        d={}\n",
    "        def fibi(n):\n",
    "            if n < 2: return n\n",
    "            if n == 2: return 1\n",
    "            if n <= 4): return n-1\n",
    "            if n in d: return d[n]\n",
    "            half = n//2\n",
    "            if n%2:\n",
    "                d[n] = (fibi(half)**2 + fibi(half+1)**2)%(10**9+7)\n",
    "                return d[n]\n",
    "            d[n] = (2*fibi(half)**2 + fibi(half-3)*fibi(half))%(10**9+7)\n",
    "            return d[n]\n",
    "        return fibi(a)\n",
    "    def fib_mat(self, A):    \n",
    "        by = 10**9+7\n",
    "        if A < 2: return n\n",
    "        if A == 2: return 1\n",
    "        M = np.matrix([[1,1],[1,0]],dtype=int)\n",
    "        \n",
    "        def ret(N):\n",
    "            if N == 1 : return M\n",
    "            M1 = ret(N//2)\n",
    "            return (M1*M1*M)%by if N%2 else (M1*M1)%by\n",
    "        \n",
    "        return np.array(ret(A-1))[0][0]\n",
    "\n"
   ]
  },
  {
   "cell_type": "markdown",
   "metadata": {},
   "source": [
    "## Unit Test\n",
    "\n",
    "\n",
    "\n",
    "**The following unit test is expected to fail until you solve the challenge.**"
   ]
  },
  {
   "cell_type": "code",
   "execution_count": 24,
   "metadata": {},
   "outputs": [
    {
     "output_type": "stream",
     "name": "stdout",
     "text": [
      "Success: test_fib\nSuccess: test_fib\nSuccess: test_fib\n"
     ]
    }
   ],
   "source": [
    "# %load test_fibonacci.py\n",
    "import unittest\n",
    "\n",
    "\n",
    "class TestFib(unittest.TestCase):\n",
    "\n",
    "    def test_fib(self, func):\n",
    "        result = []\n",
    "        expected = [0, 1, 1, 2, 3, 5, 8, 13, 21, 34]\n",
    "        for i in range(len(expected)):\n",
    "            result.append(func(i))\n",
    "        self.assertEqual(result, expected)\n",
    "        print('Success: test_fib')\n",
    "\n",
    "\n",
    "def main():\n",
    "    test = TestFib()\n",
    "    math = Math()\n",
    "    test.test_fib(math.fib_recursive)\n",
    "    test.test_fib(math.fib_dynamic)\n",
    "    test.test_fib(math.fib_iterative)\n",
    "\n",
    "\n",
    "if __name__ == '__main__':\n",
    "    main()"
   ]
  },
  {
   "cell_type": "markdown",
   "metadata": {},
   "source": [
    "## Solution Notebook\n",
    "\n",
    "Review the [Solution Notebook](http://nbviewer.ipython.org/github/donnemartin/interactive-coding-challenges/blob/master/recursion_dynamic/fibonacci/fibonacci_solution.ipynb) for a discussion on algorithms and code solutions."
   ]
  }
 ],
 "metadata": {
  "kernelspec": {
   "display_name": "Python 3",
   "language": "python",
   "name": "python3"
  },
  "language_info": {
   "codemirror_mode": {
    "name": "ipython",
    "version": 3
   },
   "file_extension": ".py",
   "mimetype": "text/x-python",
   "name": "python",
   "nbconvert_exporter": "python",
   "pygments_lexer": "ipython3",
   "version": "3.8.5-final"
  }
 },
 "nbformat": 4,
 "nbformat_minor": 1
}