{
 "cells": [
  {
   "cell_type": "markdown",
   "metadata": {},
   "source": [
    "This notebook was prepared by [Donne Martin](http://donnemartin.com). Source and license info is on [GitHub](https://github.com/donnemartin/interactive-coding-challenges)."
   ]
  },
  {
   "cell_type": "markdown",
   "metadata": {},
   "source": [
    "# Challenge Notebook"
   ]
  },
  {
   "cell_type": "markdown",
   "metadata": {},
   "source": [
    "## Problem: Implement a stack with push, pop, and min methods running O(1) time.\n",
    "\n",
    "* [Constraints](#Constraints)\n",
    "* [Test Cases](#Test-Cases)\n",
    "* [Algorithm](#Algorithm)\n",
    "* [Code](#Code)\n",
    "* [Unit Test](#Unit-Test)\n",
    "* [Solution Notebook](#Solution-Notebook)"
   ]
  },
  {
   "cell_type": "markdown",
   "metadata": {},
   "source": [
    "## Constraints\n",
    "\n",
    "* Can we assume this is a stack of ints?\n",
    "    * Yes\n",
    "* Can we assume the input values for push are valid?\n",
    "    * Yes\n",
    "* If we call this function on an empty stack, can we return sys.maxsize?\n",
    "    * Yes\n",
    "* Can we assume we already have a stack class that can be used for this problem?\n",
    "    * Yes\n",
    "* Can we assume this fits memory?\n",
    "    * Yes"
   ]
  },
  {
   "cell_type": "markdown",
   "metadata": {},
   "source": [
    "## Test Cases\n",
    "\n",
    "* Push/pop on empty stack\n",
    "* Push/pop on non-empty stack\n",
    "* Min on empty stack\n",
    "* Min on non-empty stack"
   ]
  },
  {
   "cell_type": "markdown",
   "metadata": {},
   "source": [
    "## Algorithm\n",
    "\n",
    "Refer to the [Solution Notebook](http://nbviewer.ipython.org/github/donnemartin/interactive-coding-challenges/blob/master/stacks_queues/stack_min/stack_min_solution.ipynb).  If you are stuck and need a hint, the solution notebook's algorithm discussion might be a good place to start."
   ]
  },
  {
   "cell_type": "markdown",
   "metadata": {},
   "source": [
    "## Code"
   ]
  },
  {
   "cell_type": "code",
   "execution_count": 16,
   "metadata": {
    "collapsed": true
   },
   "outputs": [],
   "source": [
    "%run ../stack/stack.py\n",
    "%load ../stack/stack.py"
   ]
  },
  {
   "cell_type": "code",
   "execution_count": 17,
   "metadata": {
    "collapsed": true
   },
   "outputs": [],
   "source": [
    "import sys\n",
    "\n",
    "\n",
    "class StackMin(Stack):\n",
    "\n",
    "    def __init__(self, top=None):\n",
    "        super(StackMin, self).__init__(top)\n",
    "        self.min = sys.maxsize\n",
    "\n",
    "    def minimum(self):\n",
    "        return self.top.data[-1] if self.top else sys.maxsize\n",
    "\n",
    "\n",
    "    def push(self, data):\n",
    "        if data < self.min: self.min = data\n",
    "        super(StackMin, self).push((data,self.min))\n",
    "\n",
    "    def pop(self):\n",
    "        return super(StackMin, self).pop()[0] if self.top else None\n",
    "\n",
    "    def peek(self):\n",
    "        return self.top.data[0] if self.top else None        "
   ]
  },
  {
   "cell_type": "markdown",
   "metadata": {},
   "source": [
    "## Unit Test\n",
    "\n",
    "\n",
    "\n",
    "**The following unit test is expected to fail until you solve the challenge.**"
   ]
  },
  {
   "cell_type": "code",
   "execution_count": 18,
   "metadata": {},
   "outputs": [
    {
     "output_type": "stream",
     "name": "stdout",
     "text": [
      "Test: Push on empty stack, non-empty stack\nTest: Pop on non-empty stack\nTest: Pop empty stack\nSuccess: test_stack_min\n"
     ]
    }
   ],
   "source": [
    "# %load test_stack_min.py\n",
    "import unittest\n",
    "\n",
    "\n",
    "class TestStackMin(unittest.TestCase):\n",
    "\n",
    "    def test_stack_min(self):\n",
    "        print('Test: Push on empty stack, non-empty stack')\n",
    "        stack = StackMin()\n",
    "        stack.push(5)\n",
    "        self.assertEqual(stack.peek(), 5)\n",
    "        self.assertEqual(stack.minimum(), 5)\n",
    "        stack.push(1)\n",
    "        self.assertEqual(stack.peek(), 1)\n",
    "        self.assertEqual(stack.minimum(), 1)\n",
    "        stack.push(3)\n",
    "        self.assertEqual(stack.peek(), 3)\n",
    "        self.assertEqual(stack.minimum(), 1)\n",
    "        stack.push(0)\n",
    "        self.assertEqual(stack.peek(), 0)\n",
    "        self.assertEqual(stack.minimum(), 0)\n",
    "\n",
    "        print('Test: Pop on non-empty stack')\n",
    "        self.assertEqual(stack.pop(), 0)\n",
    "        self.assertEqual(stack.minimum(), 1)\n",
    "        self.assertEqual(stack.pop(), 3)\n",
    "        self.assertEqual(stack.minimum(), 1)\n",
    "        self.assertEqual(stack.pop(), 1)\n",
    "        self.assertEqual(stack.minimum(), 5)\n",
    "        self.assertEqual(stack.pop(), 5)\n",
    "        self.assertEqual(stack.minimum(), sys.maxsize)\n",
    "\n",
    "        print('Test: Pop empty stack')\n",
    "        self.assertEqual(stack.pop(), None)\n",
    "\n",
    "        print('Success: test_stack_min')\n",
    "\n",
    "\n",
    "def main():\n",
    "    test = TestStackMin()\n",
    "    test.test_stack_min()\n",
    "\n",
    "\n",
    "if __name__ == '__main__':\n",
    "    main()"
   ]
  },
  {
   "cell_type": "markdown",
   "metadata": {},
   "source": [
    "## Solution Notebook\n",
    "\n",
    "Review the [Solution Notebook](http://nbviewer.ipython.org/github/donnemartin/interactive-coding-challenges/blob/master/stacks_queues/stack_min/stack_min_solution.ipynb) for a discussion on algorithms and code solutions."
   ]
  }
 ],
 "metadata": {
  "kernelspec": {
   "display_name": "Python 3",
   "language": "python",
   "name": "python3"
  },
  "language_info": {
   "codemirror_mode": {
    "name": "ipython",
    "version": 3
   },
   "file_extension": ".py",
   "mimetype": "text/x-python",
   "name": "python",
   "nbconvert_exporter": "python",
   "pygments_lexer": "ipython3",
   "version": "3.8.5-final"
  }
 },
 "nbformat": 4,
 "nbformat_minor": 1
}