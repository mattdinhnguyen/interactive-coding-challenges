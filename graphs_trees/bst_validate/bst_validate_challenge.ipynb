{
 "cells": [
  {
   "cell_type": "markdown",
   "metadata": {},
   "source": [
    "This notebook was prepared by [Donne Martin](https://github.com/donnemartin). Source and license info is on [GitHub](https://github.com/donnemartin/interactive-coding-challenges)."
   ]
  },
  {
   "cell_type": "markdown",
   "metadata": {},
   "source": [
    "# Challenge Notebook"
   ]
  },
  {
   "cell_type": "markdown",
   "metadata": {},
   "source": [
    "## Problem: Determine if a tree is a valid binary search tree.\n",
    "\n",
    "* [Constraints](#Constraints)\n",
    "* [Test Cases](#Test-Cases)\n",
    "* [Algorithm](#Algorithm)\n",
    "* [Code](#Code)\n",
    "* [Unit Test](#Unit-Test)\n",
    "* [Solution Notebook](#Solution-Notebook)"
   ]
  },
  {
   "cell_type": "markdown",
   "metadata": {},
   "source": [
    "## Constraints\n",
    "\n",
    "* Can the tree have duplicates?\n",
    "    * Yes\n",
    "* If this is called on a None input, should we raise an exception?\n",
    "    * Yes\n",
    "* Can we assume we already have a Node class?\n",
    "    * Yes\n",
    "* Can we assume this fits in memory?\n",
    "    * Yes"
   ]
  },
  {
   "cell_type": "markdown",
   "metadata": {},
   "source": [
    "## Test Cases\n",
    "\n",
    "<pre>\n",
    "Valid:\n",
    "      5\n",
    "    /   \\\n",
    "   5     8\n",
    "  /     /\n",
    " 4     6\n",
    "        \\\n",
    "         7\n",
    "        \n",
    "Invalid:\n",
    "      5\n",
    "    /   \\\n",
    "   5     8\n",
    "  / \\   /\n",
    " 4   9 7\n",
    "</pre>"
   ]
  },
  {
   "cell_type": "markdown",
   "metadata": {},
   "source": [
    "## Algorithm\n",
    "\n",
    "Refer to the [Solution Notebook](http://nbviewer.ipython.org/github/donnemartin/interactive-coding-challenges/blob/master/graphs_trees/bst_validate/bst_validate_solution.ipynb).  If you are stuck and need a hint, the solution notebook's algorithm discussion might be a good place to start."
   ]
  },
  {
   "cell_type": "markdown",
   "metadata": {},
   "source": [
    "## Code"
   ]
  },
  {
   "cell_type": "code",
   "execution_count": 1,
   "metadata": {},
   "outputs": [
    {
     "output_type": "stream",
     "name": "stdout",
     "text": [
      "Success: test_bst_validate\n"
     ]
    }
   ],
   "source": [
    "%run ../bst/bst.py\n",
    "%load ../bst/bst.py"
   ]
  },
  {
   "cell_type": "code",
   "execution_count": 2,
   "metadata": {},
   "outputs": [],
   "source": [
    "class BstValidate(Bst):\n",
    "\n",
    "    # def validate(self):\n",
    "    #     if self.root is None:\n",
    "    #         raise TypeError(\"Cant validate empty tree\")\n",
    "    #     def _inorder(node, path):\n",
    "    #         if node.left: _inorder(node.left, path)\n",
    "    #         path.append(node.data)\n",
    "    #         if node.right: _inorder(node.right, path)\n",
    "    #     path = []\n",
    "    #     _inorder(self.root, path)\n",
    "    #     return all([path[i-1] <= path[i] for i in range(1,len(path))])\n",
    "    def validate(self):\n",
    "        if self.root is None:\n",
    "            raise TypeError('No root node')\n",
    "        return self._validate(self.root)\n",
    "\n",
    "    def _validate(self, node, minimum=-sys.maxsize, maximum=sys.maxsize):\n",
    "        if node is None: return True\n",
    "        if node.data <= minimum or node.data > maximum:\n",
    "            return False\n",
    "        return self._validate(node.left, minimum, node.data) and self._validate(node.right, node.data, maximum)"
   ]
  },
  {
   "cell_type": "markdown",
   "metadata": {},
   "source": [
    "## Unit Test"
   ]
  },
  {
   "cell_type": "markdown",
   "metadata": {},
   "source": [
    "**The following unit test is expected to fail until you solve the challenge.**"
   ]
  },
  {
   "cell_type": "code",
   "execution_count": 3,
   "metadata": {},
   "outputs": [
    {
     "output_type": "stream",
     "name": "stdout",
     "text": [
      "Success: test_bst_validate\n"
     ]
    }
   ],
   "source": [
    "# %load test_bst_validate.py\n",
    "import unittest\n",
    "\n",
    "\n",
    "class TestBstValidate(unittest.TestCase):\n",
    "\n",
    "    def test_bst_validate_empty(self):\n",
    "        bst = BstValidate(None)\n",
    "        bst.validate()\n",
    "\n",
    "    def test_bst_validate(self):\n",
    "        bst = BstValidate(Node(5))\n",
    "        bst.insert(8)\n",
    "        bst.insert(5)\n",
    "        bst.insert(6)\n",
    "        bst.insert(4)\n",
    "        bst.insert(7)\n",
    "        self.assertEqual(bst.validate(), True)\n",
    "\n",
    "        bst = BstValidate(Node(5))\n",
    "        left = Node(5)\n",
    "        right = Node(8)\n",
    "        invalid = Node(20)\n",
    "        bst.root.left = left\n",
    "        bst.root.right = right\n",
    "        bst.root.left.right = invalid\n",
    "        self.assertEqual(bst.validate(), False)\n",
    "\n",
    "        print('Success: test_bst_validate')\n",
    "\n",
    "\n",
    "def main():\n",
    "    test = TestBstValidate()\n",
    "    test.assertRaises(TypeError, test.test_bst_validate_empty)\n",
    "    test.test_bst_validate()\n",
    "\n",
    "\n",
    "if __name__ == '__main__':\n",
    "    main()"
   ]
  },
  {
   "cell_type": "markdown",
   "metadata": {},
   "source": [
    "## Solution Notebook\n",
    "\n",
    "Review the [Solution Notebook](http://nbviewer.ipython.org/github/donnemartin/interactive-coding-challenges/blob/master/graphs_trees/bst_validate/bst_validate_solution.ipynb) for a discussion on algorithms and code solutions."
   ]
  }
 ],
 "metadata": {
  "kernelspec": {
   "display_name": "Python 3",
   "language": "python",
   "name": "python3"
  },
  "language_info": {
   "codemirror_mode": {
    "name": "ipython",
    "version": 3
   },
   "file_extension": ".py",
   "mimetype": "text/x-python",
   "name": "python",
   "nbconvert_exporter": "python",
   "pygments_lexer": "ipython3",
   "version": "3.8.5-final"
  }
 },
 "nbformat": 4,
 "nbformat_minor": 1
}