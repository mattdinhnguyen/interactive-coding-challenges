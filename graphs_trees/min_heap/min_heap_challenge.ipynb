{
 "cells": [
  {
   "cell_type": "markdown",
   "metadata": {},
   "source": [
    "This notebook was prepared by [Donne Martin](https://github.com/donnemartin). Source and license info is on [GitHub](https://github.com/donnemartin/interactive-coding-challenges)."
   ]
  },
  {
   "cell_type": "markdown",
   "metadata": {},
   "source": [
    "# Challenge Notebook"
   ]
  },
  {
   "cell_type": "markdown",
   "metadata": {},
   "source": [
    "## Problem: Implement a min heap with extract_min and insert methods.\n",
    "\n",
    "* [Constraints](#Constraints)\n",
    "* [Test Cases](#Test-Cases)\n",
    "* [Algorithm](#Algorithm)\n",
    "* [Code](#Code)\n",
    "* [Unit Test](#Unit-Test)\n",
    "* [Solution Notebook](#Solution-Notebook)"
   ]
  },
  {
   "cell_type": "markdown",
   "metadata": {},
   "source": [
    "## Constraints\n",
    "\n",
    "* Can we assume the inputs are ints?\n",
    "    * Yes\n",
    "* Can we assume this fits memory?\n",
    "    * Yes"
   ]
  },
  {
   "cell_type": "markdown",
   "metadata": {},
   "source": [
    "## Test Cases\n",
    "\n",
    "* Extract min of an empty tree\n",
    "* Extract min general case\n",
    "* Insert into an empty tree\n",
    "* Insert general case (left and right insert)\n",
    "\n",
    "<pre>\n",
    "          _5_\n",
    "        /     \\\n",
    "       20     15\n",
    "      / \\    /  \\\n",
    "     22  40 25\n",
    "     \n",
    "extract_min(): 5\n",
    "\n",
    "          _15_\n",
    "        /      \\\n",
    "       20      25\n",
    "      / \\     /  \\\n",
    "     22  40 \n",
    "\n",
    "insert(2):\n",
    "\n",
    "          _2_\n",
    "        /     \\\n",
    "       20      5\n",
    "      / \\     / \\\n",
    "     22  40  25  15\n",
    "</pre>"
   ]
  },
  {
   "cell_type": "markdown",
   "metadata": {},
   "source": [
    "## Algorithm\n",
    "\n",
    "Refer to the [Solution Notebook](http://nbviewer.ipython.org/github/donnemartin/interactive-coding-challenges/blob/master/graphs_trees/min_heap/min_heap_solution.ipynb).  If you are stuck and need a hint, the solution notebook's algorithm discussion might be a good place to start."
   ]
  },
  {
   "cell_type": "markdown",
   "metadata": {},
   "source": [
    "## Code"
   ]
  },
  {
   "cell_type": "code",
   "execution_count": 28,
   "metadata": {},
   "outputs": [],
   "source": [
    "class Node(object):\n",
    "    def __init__(self, data, parent = None):\n",
    "        self.data = data\n",
    "        self.left = None\n",
    "        self.right = None\n",
    "        self.parent = parent\n",
    "    def __repr__(self):\n",
    "        return str(self.data)\n",
    "\n",
    "class MinHeap(object):\n",
    "    def __init__(self, root=None):\n",
    "        self.root = root\n",
    "    def height(self, node):\n",
    "        if node is None:\n",
    "            return 0\n",
    "        return 1 + max(self.height(node.left),\n",
    "                       self.height(node.right))\n",
    "    def create_level_lists(self):\n",
    "        levelLists = [[self.root]]\n",
    "        stax = levelLists[-1][:]\n",
    "        while stax:\n",
    "            stax = [c for n in stax for c in [n.left, n.right] if c]\n",
    "            if stax: levelLists.append(stax)\n",
    "        return levelLists\n",
    "    def _insert(self, data):\n",
    "        if data is None:\n",
    "            raise TypeError('data cannot be None')\n",
    "        if self.root is None:\n",
    "            self.root = Node(data)\n",
    "            return self.root\n",
    "        else:\n",
    "            h = self.height(self.root)\n",
    "            if h == 1:\n",
    "                self.root.left = Node(data, self.root)\n",
    "                return self.root.left\n",
    "            elif h == 2 and self.root.right == None:\n",
    "                self.root.right = Node(data, self.root)\n",
    "                return self.root.right\n",
    "            nextLastLevel, lastLevel = self.create_level_lists()[-2:]\n",
    "            if len(lastLevel) == 2**(h-1): # full level, start a new level\n",
    "                lastLevel[0].left = Node(data,lastLevel[0])\n",
    "                return lastLevel[0].left\n",
    "            else:\n",
    "                for n in nextLastLevel:\n",
    "                    if n.left == None:\n",
    "                        n.left = Node(data, n)\n",
    "                        return n.left\n",
    "                    elif n.right == None:\n",
    "                        n.right = Node(data, n)\n",
    "                        return n.right\n",
    "    def insert(self, data):\n",
    "        n = self._insert(data)\n",
    "        while n.parent and n.data < n.parent.data: # bubble up n.data\n",
    "            n.parent.data, n.data = n.data, n.parent.data\n",
    "            n = n.parent\n",
    "        if n.left and n.left.data < n.data:\n",
    "            n.left.data, n.data = n.data, n.left.data\n",
    "            return n.left\n",
    "        elif n.right and n.right.data < n.data:\n",
    "            n.right.data, n.data = n.data, n.right.data\n",
    "            return n.right\n",
    "        else:\n",
    "            return n\n",
    "    def extract_min(self):\n",
    "        if self.root == None: return None\n",
    "        if self.root.left == self.root.right == None:\n",
    "            n, self.root = self.root, None\n",
    "            return n\n",
    "        levelLists = self.create_level_lists()\n",
    "        # print(levelLists)\n",
    "        lastNode = levelLists[-1][-1]\n",
    "        lastNode.data, self.root.data = self.root.data, lastNode.data\n",
    "        if lastNode.parent:\n",
    "            if lastNode.parent.left == lastNode:\n",
    "                lastNode.parent.left == lastNode.parent.right\n",
    "            lastNode.parent.right = None\n",
    "            return lastNode.data\n",
    "\n",
    "    def peek_min(self):\n",
    "        return self.root.data if self.root else None"
   ]
  },
  {
   "cell_type": "markdown",
   "metadata": {},
   "source": [
    "## Unit Test"
   ]
  },
  {
   "cell_type": "markdown",
   "metadata": {},
   "source": [
    "**The following unit test is expected to fail until you solve the challenge.**"
   ]
  },
  {
   "cell_type": "code",
   "execution_count": 29,
   "metadata": {},
   "outputs": [
    {
     "output_type": "stream",
     "name": "stdout",
     "text": [
      "Success: test_min_heap\n"
     ]
    }
   ],
   "source": [
    "# %load test_min_heap.py\n",
    "import unittest\n",
    "\n",
    "\n",
    "class TestMinHeap(unittest.TestCase):\n",
    "\n",
    "    def test_min_heap(self):\n",
    "        heap = MinHeap()\n",
    "        self.assertEqual(heap.peek_min(), None)\n",
    "        self.assertEqual(heap.extract_min(), None)\n",
    "        heap.insert(20)\n",
    "        self.assertEqual(heap.peek_min(), 20)\n",
    "        heap.insert(5)\n",
    "        self.assertEqual(heap.peek_min(), 5)\n",
    "        heap.insert(15)\n",
    "        heap.insert(22)\n",
    "        heap.insert(40)\n",
    "        heap.insert(5)\n",
    "        self.assertEqual(heap.peek_min(), 5)\n",
    "        heap.insert(3)\n",
    "        self.assertEqual(heap.peek_min(), 3)\n",
    "        self.assertEqual(heap.extract_min(), 3)\n",
    "        self.assertEqual(heap.peek_min(), 5)\n",
    "        print('Success: test_min_heap')\n",
    "\n",
    "        \n",
    "def main():\n",
    "    test = TestMinHeap()\n",
    "    test.test_min_heap()\n",
    "\n",
    "    \n",
    "if __name__ == '__main__':\n",
    "    main()"
   ]
  },
  {
   "cell_type": "markdown",
   "metadata": {},
   "source": [
    "## Solution Notebook\n",
    "\n",
    "Review the [Solution Notebook](http://nbviewer.ipython.org/github/donnemartin/interactive-coding-challenges/blob/master/graphs_trees/min_heap/min_heap_solution.ipynb) for a discussion on algorithms and code solutions."
   ]
  }
 ],
 "metadata": {
  "kernelspec": {
   "display_name": "Python 3",
   "language": "python",
   "name": "python3"
  },
  "language_info": {
   "codemirror_mode": {
    "name": "ipython",
    "version": 3
   },
   "file_extension": ".py",
   "mimetype": "text/x-python",
   "name": "python",
   "nbconvert_exporter": "python",
   "pygments_lexer": "ipython3",
   "version": "3.8.5-final"
  }
 },
 "nbformat": 4,
 "nbformat_minor": 1
}